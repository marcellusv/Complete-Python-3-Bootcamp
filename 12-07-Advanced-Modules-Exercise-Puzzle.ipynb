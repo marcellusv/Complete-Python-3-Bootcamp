{
 "cells": [
  {
   "cell_type": "markdown",
   "metadata": {},
   "source": [
    "___\n",
    "\n",
    "<a href='https://www.udemy.com/user/joseportilla/'><img src='../../Pierian_Data_Logo.png'/></a>\n",
    "___\n",
    "<center><em>Content Copyright by Pierian Data</em></center>"
   ]
  },
  {
   "cell_type": "markdown",
   "metadata": {},
   "source": [
    "# Advanced Modules Exercise Puzzle\n",
    "\n",
    "It's time to test your new skills, this puzzle project will combine multiple skills sets, including unzipping files with Python, using os module to automatically search through lots of files.\n",
    "\n",
    "## Your Goal\n",
    "\n",
    "This is a puzzle, so we don't want to give you too much guidance and instead have you figure out things on your own.\n",
    "\n",
    "There is a .zip file called 'unzip_me_for_instructions.zip', unzip it, open the .txt file with Python, read the instructions and see if you can figure out what you need to do!\n",
    "\n",
    "**If you get stuck or don't know where to start, here is a [guide/hints](https://docs.google.com/document/d/1JxydUr4n4fSR0EwwuwT-aHia-yPK6r-oTBuVT2sqheo/edit?usp=sharing)**"
   ]
  },
  {
   "cell_type": "code",
   "execution_count": 1,
   "metadata": {},
   "outputs": [],
   "source": [
    "import zipfile\n",
    "import os\n",
    "import re"
   ]
  },
  {
   "cell_type": "code",
   "execution_count": 2,
   "metadata": {},
   "outputs": [
    {
     "name": "stdout",
     "output_type": "stream",
     "text": [
      "/mnt/c/Users/Marcel/Documents/GitHub/Complete-Python-3-Bootcamp\n"
     ]
    }
   ],
   "source": [
    "print(os.getcwd())\n",
    "\n",
    "extracted_dirname = '12-07-extracted-content'\n",
    "with zipfile.ZipFile('12-07-unzip_me_for_instructions.zip','r') as f_zip:\n",
    "    f_zip.extractall(extracted_dirname)\n",
    "f_zip.close()"
   ]
  },
  {
   "cell_type": "code",
   "execution_count": 3,
   "metadata": {},
   "outputs": [
    {
     "name": "stdout",
     "output_type": "stream",
     "text": [
      "Phone number found: 719-266-2837\n",
      "\t in file 12-07-extracted-content/extracted_content/Four/EMTGPSXQEJX.txt\n"
     ]
    }
   ],
   "source": [
    "for folder, sub_folders, files in os.walk(extracted_dirname):\n",
    "    for filename in files:\n",
    "        file = folder + '/' + filename\n",
    "        \n",
    "        try:\n",
    "            f = open(file, 'r')\n",
    "            phone_number = re.search(r'\\d{3}-\\d{3}-\\d{4}', f.readline())\n",
    "        finally:\n",
    "            f.close()\n",
    "        \n",
    "        if phone_number is not None:\n",
    "            print('Phone number found:', phone_number.group())\n",
    "            print('\\t in file', file)"
   ]
  }
 ],
 "metadata": {
  "anaconda-cloud": {},
  "kernelspec": {
   "display_name": "Python 3 (ipykernel)",
   "language": "python",
   "name": "python3"
  },
  "language_info": {
   "codemirror_mode": {
    "name": "ipython",
    "version": 3
   },
   "file_extension": ".py",
   "mimetype": "text/x-python",
   "name": "python",
   "nbconvert_exporter": "python",
   "pygments_lexer": "ipython3",
   "version": "3.9.2"
  }
 },
 "nbformat": 4,
 "nbformat_minor": 4
}
